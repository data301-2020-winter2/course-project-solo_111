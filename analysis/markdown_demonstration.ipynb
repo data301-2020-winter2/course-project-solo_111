{
 "cells": [
  {
   "cell_type": "markdown",
   "id": "hairy-casting",
   "metadata": {},
   "source": [
    "# Markdown demonstration:"
   ]
  },
  {
   "cell_type": "markdown",
   "id": "respected-romantic",
   "metadata": {},
   "source": [
    "**Bold Text**"
   ]
  },
  {
   "cell_type": "markdown",
   "id": "earlier-montgomery",
   "metadata": {},
   "source": [
    "- Unordered List"
   ]
  },
  {
   "cell_type": "markdown",
   "id": "isolated-germany",
   "metadata": {},
   "source": [
    "[Links](https://www.google.com/)"
   ]
  },
  {
   "cell_type": "code",
   "execution_count": null,
   "id": "hairy-bargain",
   "metadata": {},
   "outputs": [],
   "source": []
  }
 ],
 "metadata": {
  "kernelspec": {
   "display_name": "Python 3",
   "language": "python",
   "name": "python3"
  },
  "language_info": {
   "codemirror_mode": {
    "name": "ipython",
    "version": 3
   },
   "file_extension": ".py",
   "mimetype": "text/x-python",
   "name": "python",
   "nbconvert_exporter": "python",
   "pygments_lexer": "ipython3",
   "version": "3.8.5"
  }
 },
 "nbformat": 4,
 "nbformat_minor": 5
}
